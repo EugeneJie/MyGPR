{
  "nbformat": 4,
  "nbformat_minor": 0,
  "metadata": {
    "colab": {
      "name": "毕设（训练图片裁剪）.ipynb",
      "version": "0.3.2",
      "provenance": [],
      "collapsed_sections": []
    },
    "kernelspec": {
      "name": "python3",
      "display_name": "Python 3"
    }
  },
  "cells": [
    {
      "cell_type": "code",
      "metadata": {
        "id": "f8mZHpYJuAaI",
        "colab_type": "code",
        "colab": {}
      },
      "source": [
        "from google.colab import drive\n",
        "drive.mount('/content/gdrive')"
      ],
      "execution_count": 0,
      "outputs": []
    },
    {
      "cell_type": "code",
      "metadata": {
        "id": "hLeyghqFuGVV",
        "colab_type": "code",
        "colab": {}
      },
      "source": [
        "import os\n",
        "import cv2"
      ],
      "execution_count": 0,
      "outputs": []
    },
    {
      "cell_type": "code",
      "metadata": {
        "id": "wDT91p6GuBDV",
        "colab_type": "code",
        "colab": {}
      },
      "source": [
        "path = \"/content/gdrive/My Drive/gpr_data\"\n",
        "os.chdir(path)"
      ],
      "execution_count": 0,
      "outputs": []
    },
    {
      "cell_type": "code",
      "metadata": {
        "id": "1rfHxFR1t4CF",
        "colab_type": "code",
        "colab": {}
      },
      "source": [
        "#paths = ['predict/','train/free_space/','val/free_space/','train/pec/','val/pec/']\n",
        "paths = ['temp/','train/soil/','val/soil/','train/coal/','val/coal/']\n",
        "\n",
        "for path in paths:\n",
        "    for pic in os.listdir(path):\n",
        "\n",
        "        image = cv2.imread(path + pic)\n",
        "        \n",
        "        img1 = image[605:1190,92:1927]\n",
        "        img2 = image[640:1190,92:1927]\n",
        "\n",
        "        pic1 = pic.replace('merged','cut1')\n",
        "        pic2 = pic.replace('merged','cut2')\n",
        "        \n",
        "        cv2.imwrite(path + pic1, img1)\n",
        "        cv2.imwrite(path + pic2, img2)\n"
      ],
      "execution_count": 0,
      "outputs": []
    }
  ]
}
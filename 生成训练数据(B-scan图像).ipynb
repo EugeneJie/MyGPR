{
 "cells": [
  {
   "cell_type": "code",
   "execution_count": 0,
   "metadata": {
    "colab": {
     "base_uri": "https://localhost:8080/",
     "height": 35
    },
    "colab_type": "code",
    "id": "GCOc9VRSsaGt",
    "outputId": "9dc28155-aff7-4b29-fd15-8e3baf7eced7"
   },
   "outputs": [
    {
     "name": "stdout",
     "output_type": "stream",
     "text": [
      "Drive already mounted at /content/gdrive; to attempt to forcibly remount, call drive.mount(\"/content/gdrive\", force_remount=True).\n"
     ]
    }
   ],
   "source": [
    "from google.colab import drive\n",
    "drive.mount('/content/gdrive')"
   ]
  },
  {
   "cell_type": "code",
   "execution_count": 0,
   "metadata": {
    "colab": {},
    "colab_type": "code",
    "id": "ni4_PuXUsm7P"
   },
   "outputs": [],
   "source": [
    "import os\n",
    "\n",
    "path = \"/content/gdrive/My Drive/gprMax-master\"\n",
    "os.chdir(path)"
   ]
  },
  {
   "cell_type": "code",
   "execution_count": 0,
   "metadata": {
    "colab": {},
    "colab_type": "code",
    "id": "RDgoxEbtsp_W"
   },
   "outputs": [],
   "source": [
    "!python setup.py build\n",
    "!python setup.py install"
   ]
  },
  {
   "cell_type": "code",
   "execution_count": 0,
   "metadata": {
    "colab": {},
    "colab_type": "code",
    "id": "h_wq8dmssuCW"
   },
   "outputs": [],
   "source": [
    "!pip install colorama\n",
    "!pip install terminaltables\n",
    "!pip install pycuda"
   ]
  },
  {
   "cell_type": "markdown",
   "metadata": {
    "colab_type": "text",
    "id": "c34xL8h49viW"
   },
   "source": [
    "在gen.py中定义了四种异常体模型：\n",
    "\n",
    "1.   pec（金属良导体）\n",
    "2.   free_space（空气）\n",
    "3.   coal（煤）\n",
    "4.   soil（土壤）\n",
    "\n",
    "\n",
    "---\n",
    "\n",
    "\n",
    "每种模型各126个，以***异常类型+id***命名。id为0-62为矩形异常体，为63-125为圆形异常体。\n",
    "\n",
    "可根据实际训练或测试任务更改下列代码产生不同范围和数量的模型对应的B-scan图像。\n",
    "\n",
    "\n",
    "\n",
    "\n",
    "\n",
    "\n",
    "\n"
   ]
  },
  {
   "cell_type": "code",
   "execution_count": 0,
   "metadata": {
    "colab": {},
    "colab_type": "code",
    "id": "lSpMnQ7N-Jzq"
   },
   "outputs": [],
   "source": [
    "# 训练/验证集"
   ]
  },
  {
   "cell_type": "code",
   "execution_count": 0,
   "metadata": {
    "colab": {},
    "colab_type": "code",
    "id": "Xx5Rq1aIDu-O"
   },
   "outputs": [],
   "source": [
    "!i=0; while(($i<126)); do python -m gprMax ../train/pec/pec$i.in -n 80 -gpu ; python -m tools.outputfiles_merge ../train/pec/pec$i --remove-files ; python -m tools.plot_Bscan ../train/pec/pec${i}_merged.out Ez ; echo \"finish=$i\"; ((i=$i+1)); done;"
   ]
  },
  {
   "cell_type": "code",
   "execution_count": 0,
   "metadata": {
    "colab": {},
    "colab_type": "code",
    "id": "PfiZDcb5DutO"
   },
   "outputs": [],
   "source": [
    "!i=0; while(($i<126)); do python -m gprMax ../train/free_space/free_space$i.in -n 80 -gpu ; python -m tools.outputfiles_merge ../train/free_space/free_space$i --remove-files ; python -m tools.plot_Bscan ../train/free_space/free_space${i}_merged.out Ez ; echo \"finish=$i\"; ((i=$i+1)); done;"
   ]
  },
  {
   "cell_type": "code",
   "execution_count": 0,
   "metadata": {
    "colab": {},
    "colab_type": "code",
    "id": "W5H_F5jp3HmC"
   },
   "outputs": [],
   "source": [
    "!i=0; while(($i<126)); do python -m gprMax ../train/coal/coal$i.in -n 80 -gpu ; python -m tools.outputfiles_merge ../train/coal/coal$i --remove-files ; python -m tools.plot_Bscan ../train/coal/coal${i}_merged.out Ez ; echo \"finish=$i\"; ((i=$i+1)); done;"
   ]
  },
  {
   "cell_type": "code",
   "execution_count": 0,
   "metadata": {
    "colab": {},
    "colab_type": "code",
    "id": "9DtlVXhw8Tf1"
   },
   "outputs": [],
   "source": [
    "!i=0; while(($i<126)); do python -m gprMax ../train/soil/soil$i.in -n 80 -gpu ; python -m tools.outputfiles_merge ../train/soil/soil$i --remove-files ; python -m tools.plot_Bscan ../train/soil/soil${i}_merged.out Ez ; echo \"finish=$i\"; ((i=$i+1)); done;"
   ]
  },
  {
   "cell_type": "code",
   "execution_count": 0,
   "metadata": {
    "colab": {},
    "colab_type": "code",
    "id": "J6PF-sLu-DLS"
   },
   "outputs": [],
   "source": [
    "# 测试集\n",
    "# 需再次运行gen.py产生不同的模型作为测试集"
   ]
  },
  {
   "cell_type": "code",
   "execution_count": 0,
   "metadata": {
    "colab": {},
    "colab_type": "code",
    "id": "F7iI17wbElqH"
   },
   "outputs": [],
   "source": [
    "!i=50; while(($i<63)); do python -m gprMax ../train/pec/pec$i.in -n 80 -gpu ; python -m tools.outputfiles_merge ../train/pec/pec$i --remove-files ; python -m tools.plot_Bscan ../train/pec/pec${i}_merged.out Ez ; echo \"finish=$i\"; ((i=$i+1)); done;"
   ]
  },
  {
   "cell_type": "code",
   "execution_count": 0,
   "metadata": {
    "colab": {},
    "colab_type": "code",
    "id": "httUZvR1Emtn"
   },
   "outputs": [],
   "source": [
    "!i=113; while(($i<126)); do python -m gprMax ../train/pec/pec$i.in -n 80 -gpu ; python -m tools.outputfiles_merge ../train/pec/pec$i --remove-files ; python -m tools.plot_Bscan ../train/pec/pec${i}_merged.out Ez ; echo \"finish=$i\"; ((i=$i+1)); done;"
   ]
  },
  {
   "cell_type": "code",
   "execution_count": 0,
   "metadata": {
    "colab": {},
    "colab_type": "code",
    "id": "3jqx8NWeEtqo"
   },
   "outputs": [],
   "source": [
    "!i=50; while(($i<63)); do python -m gprMax ../train/free_space/free_space$i.in -n 80 -gpu ; python -m tools.outputfiles_merge ../train/free_space/free_space$i --remove-files ; python -m tools.plot_Bscan ../train/free_space/free_space${i}_merged.out Ez ; echo \"finish=$i\"; ((i=$i+1)); done;"
   ]
  },
  {
   "cell_type": "code",
   "execution_count": 0,
   "metadata": {
    "colab": {},
    "colab_type": "code",
    "id": "IBF62mt5Etew"
   },
   "outputs": [],
   "source": [
    "!i=113; while(($i<126)); do python -m gprMax ../train/free_space/free_space$i.in -n 80 -gpu ; python -m tools.outputfiles_merge ../train/free_space/free_space$i --remove-files ; python -m tools.plot_Bscan ../train/free_space/free_space${i}_merged.out Ez ; echo \"finish=$i\"; ((i=$i+1)); done;"
   ]
  },
  {
   "cell_type": "code",
   "execution_count": 0,
   "metadata": {
    "colab": {},
    "colab_type": "code",
    "id": "-rPX_vSQ-CrS"
   },
   "outputs": [],
   "source": [
    "!i=50; while(($i<63)); do python -m gprMax ../train/predict/coal$i.in -n 80 -gpu ; python -m tools.outputfiles_merge ../train/perdict/coal$i --remove-files ; python -m tools.plot_Bscan ../train/predict/coal${i}_merged.out Ez ; echo \"finish=$i\"; ((i=$i+1)); done;"
   ]
  },
  {
   "cell_type": "code",
   "execution_count": 0,
   "metadata": {
    "colab": {},
    "colab_type": "code",
    "id": "xHpKKvIb-nKT"
   },
   "outputs": [],
   "source": [
    "!i=113; while(($i<126)); do python -m gprMax ../train/predict/coal$i.in -n 80 -gpu ; python -m tools.outputfiles_merge ../train/perdict/coal$i --remove-files ; python -m tools.plot_Bscan ../train/predict/coal${i}_merged.out Ez ; echo \"finish=$i\"; ((i=$i+1)); done;"
   ]
  },
  {
   "cell_type": "code",
   "execution_count": 0,
   "metadata": {
    "colab": {},
    "colab_type": "code",
    "id": "gBF0McXl-uEi"
   },
   "outputs": [],
   "source": [
    "!i=50; while(($i<63)); do python -m gprMax ../train/train/predict/soil$i.in -n 80 -gpu ; python -m tools.outputfiles_merge ../train/perdict/soil$i --remove-files ; python -m tools.plot_Bscan ../train/predict/soil${i}_merged.out Ez ; echo \"finish=$i\"; ((i=$i+1)); done;"
   ]
  },
  {
   "cell_type": "code",
   "execution_count": 0,
   "metadata": {
    "colab": {},
    "colab_type": "code",
    "id": "nUpgu8XB-1fT"
   },
   "outputs": [],
   "source": [
    "!i=113; while(($i<126)); do python -m gprMax ../train/predict/soil$i.in -n 80 -gpu ; python -m tools.outputfiles_merge ../train/perdict/soil$i --remove-files ; python -m tools.plot_Bscan ../train/predict/soil${i}_merged.out Ez ; echo \"finish=$i\"; ((i=$i+1)); done;"
   ]
  }
 ],
 "metadata": {
  "accelerator": "GPU",
  "colab": {
   "collapsed_sections": [],
   "name": "毕设（数据模拟）.ipynb",
   "provenance": [],
   "version": "0.3.2"
  },
  "kernelspec": {
   "display_name": "Python 3",
   "language": "python",
   "name": "python3"
  },
  "language_info": {
   "codemirror_mode": {
    "name": "ipython",
    "version": 3
   },
   "file_extension": ".py",
   "mimetype": "text/x-python",
   "name": "python",
   "nbconvert_exporter": "python",
   "pygments_lexer": "ipython3",
   "version": "3.6.4"
  }
 },
 "nbformat": 4,
 "nbformat_minor": 1
}

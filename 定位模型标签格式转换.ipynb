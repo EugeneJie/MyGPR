{
  "nbformat": 4,
  "nbformat_minor": 0,
  "metadata": {
    "colab": {
      "name": "毕设（标签格式转换）.ipynb",
      "version": "0.3.2",
      "provenance": [],
      "collapsed_sections": []
    },
    "kernelspec": {
      "name": "python3",
      "display_name": "Python 3"
    }
  },
  "cells": [
    {
      "cell_type": "code",
      "metadata": {
        "id": "QnAsDzoZHhjI",
        "colab_type": "code",
        "outputId": "027f0d14-5ad9-465a-ba84-4c5a19b002f2",
        "colab": {
          "base_uri": "https://localhost:8080/",
          "height": 35
        }
      },
      "source": [
        "from google.colab import drive\n",
        "drive.mount('/content/gdrive')"
      ],
      "execution_count": 0,
      "outputs": [
        {
          "output_type": "stream",
          "text": [
            "Drive already mounted at /content/gdrive; to attempt to forcibly remount, call drive.mount(\"/content/gdrive\", force_remount=True).\n"
          ],
          "name": "stdout"
        }
      ]
    },
    {
      "cell_type": "code",
      "metadata": {
        "id": "Rhjeiu6qHiW2",
        "colab_type": "code",
        "colab": {}
      },
      "source": [
        "import os\n",
        "\n",
        "path = \"/content/gdrive/My Drive/gpr_locate/\"\n",
        "for i in ['train/coal/','train/free_space/','train/pec/','train/soil/']:\n",
        "  for j in os.listdir(path+i):\n",
        "    if '.xml' in j:\n",
        "      with open(path+i+j,'rb') as f:\n",
        "        for k in range(19):\n",
        "          if k==2:\n",
        "            filename = f.readline().decode().strip().replace('<filename>','').replace('</filename>','')\n",
        "          else:\n",
        "            f.readline()\n",
        "        xmin = f.readline().decode().strip().lstrip('<xmin>').rstrip('</xmin>')\n",
        "        ymin = f.readline().decode().strip().lstrip('<ymin>').rstrip('</ymin>')\n",
        "        xmax = f.readline().decode().strip().lstrip('<xmax>').rstrip('</xmax>')\n",
        "        ymax = f.readline().decode().strip().lstrip('<ymax>').rstrip('</ymax>')\n",
        "      with open(path+'model_data/train.txt','a') as f:\n",
        "        s = r'%s %s,%s,%s,%s,0' %(path+i+filename,xmin,ymin,xmax,ymax)\n",
        "        f.write(s)\n",
        "        f.write('\\n')"
      ],
      "execution_count": 0,
      "outputs": []
    }
  ]
}